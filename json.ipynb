{
 "metadata": {
  "language_info": {
   "codemirror_mode": {
    "name": "ipython",
    "version": 3
   },
   "file_extension": ".py",
   "mimetype": "text/x-python",
   "name": "python",
   "nbconvert_exporter": "python",
   "pygments_lexer": "ipython3",
   "version": "3.8.5-final"
  },
  "orig_nbformat": 2,
  "kernelspec": {
   "name": "python_defaultSpec_1599387771032",
   "display_name": "Python 3.8.5 64-bit"
  }
 },
 "nbformat": 4,
 "nbformat_minor": 2,
 "cells": [
  {
   "cell_type": "code",
   "execution_count": null,
   "metadata": {},
   "outputs": [],
   "source": [
    "import urllib.request, urllib.parse, urllib.error\n",
    "import json\n",
    "\n",
    "serviceurl= \"http://maps.googleapis.com/maps/api/geocode/json?\"\n",
    "while True :\n",
    "    address = input(\"Enter location:\")\n",
    "    if len(address)<1 : break\n",
    "\n",
    "url= serviceurl + urllib.parse.urlencode({'address': address})\n",
    "\n",
    "print('Retrieving', url)\n",
    "uh = urllib.urlrequest.urlopen(url)\n",
    "data = uh.read().decode()\n",
    "print(\"Retrieved\", len(data), 'characters')\n",
    "\n",
    "try:\n",
    "    js= json.loads(data)\n",
    "except:\n",
    "    js = None\n",
    "\n",
    "if not js or 'status' not in js or js['status']!= 'OK':\n",
    "    print(\"Failure to RETRIEVE___\")\n",
    "    print(data)\n",
    "    continue\n",
    "\n",
    "lat = js[\"results\"][0][\"geometry\"][\"location\"][\"lat\"]\n",
    "\n",
    "lng = js[\"results\"][0][\"geometry\"][\"location\"][\"lng\"]\n",
    "print(\"Latitude\", lat)\n",
    "print(\"longitude\", lng)\n",
    "location = js['results'][0]['formatted_address']\n",
    "print(location)\n",
    "\n"
   ]
  },
  {
   "cell_type": "code",
   "execution_count": null,
   "metadata": {},
   "outputs": [],
   "source": [
    "\n"
   ]
  }
 ]
}